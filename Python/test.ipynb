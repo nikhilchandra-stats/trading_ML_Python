{
 "cells": [
  {
   "cell_type": "code",
   "execution_count": 15,
   "metadata": {},
   "outputs": [],
   "source": [
    "import pandas\n",
    "import numpy\n",
    "\n",
    "#example.groupby('name')['number'].fillna(method='ffill')\n",
    "\n",
    "def read_macro_data(url = 'https://raw.githubusercontent.com/nikhilchandra-stats/macrodatasetsraw/master/data/daily_fx_macro_data.csv', \n",
    "                    encoding_var = 'cp1252'):\n",
    "    return pandas.read_csv(url, encoding=encoding_var)\n",
    "\n",
    "dat = read_macro_data(url = 'https://raw.githubusercontent.com/nikhilchandra-stats/macrodatasetsraw/master/data/daily_fx_macro_data.csv', \n",
    "                      encoding_var = 'cp1252')\n",
    "\n",
    "consumer_price = dat[dat[\"event\"].str.contains('(?i)Consumer', regex=True)]\n",
    "consumer_price = consumer_price[consumer_price[\"event\"].str.contains('(?i)Consumer', regex=True)]\n",
    "consumer_price = consumer_price[consumer_price[\"event\"].str.contains('MoM', regex=True,  case=True)]\n",
    "\n",
    "consumer_price_USD = consumer_price[consumer_price[\"symbol\"] == \"USD\"]\n",
    "consumer_price_USD = consumer_price_USD[~consumer_price_USD[\"event\"].str.contains('Food', regex=True,  case=True)]\n",
    "consumer_price_USD = consumer_price_USD[~consumer_price_USD[\"event\"].str.contains('n.s.a', regex=False,  case=True)]\n"
   ]
  }
 ],
 "metadata": {
  "kernelspec": {
   "display_name": "Python 3",
   "language": "python",
   "name": "python3"
  },
  "language_info": {
   "name": "python",
   "version": "3.11.3"
  }
 },
 "nbformat": 4,
 "nbformat_minor": 2
}
