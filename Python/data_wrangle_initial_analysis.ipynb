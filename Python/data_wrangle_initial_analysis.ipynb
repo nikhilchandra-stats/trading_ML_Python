{
 "cells": [
  {
   "cell_type": "code",
   "execution_count": 1,
   "metadata": {},
   "outputs": [],
   "source": [
    "import pandas\n",
    "import numpy\n",
    "import fs\n",
    "\n",
    "directory = \"C:/Users/Nikhil Chandra/Documents/Repos/IG Trading/data/\"\n"
   ]
  },
  {
   "cell_type": "code",
   "execution_count": 2,
   "metadata": {},
   "outputs": [],
   "source": [
    "def get_asset_name_df(directory = \"C:/Users/Nikhil Chandra/Documents/Repos/IG Trading/data/\"):\n",
    "    directory_object = fs.open_fs(directory)\n",
    "    asset_name_conversion_file = pandas.Series(list(directory_object.listdir('/')))\n",
    "    asset_name_conversion_file = asset_name_conversion_file[asset_name_conversion_file.str.contains(\"ASSET NAME CONVERSION\")].to_list()\n",
    "    asset_name_conversion = list(map(lambda a:directory + a, asset_name_conversion_file))\n",
    "    asset_name_conversion = pandas.read_csv(asset_name_conversion[0])\n",
    "    return asset_name_conversion\n",
    "\n",
    "def get_asset_data(directory = \"C:/Users/Nikhil Chandra/Documents/Repos/IG Trading/data/\", \n",
    "                    asset_name = \"AUD_USD\"):\n",
    "    directory_object = fs.open_fs(directory)\n",
    "    asset_file = pandas.Series(list(directory_object.listdir('/')))\n",
    "    asset_file = asset_file[asset_file.str.contains(asset_name)].to_list()\n",
    "    asset_data = list(map(lambda a:directory + a, asset_file))\n",
    "    asset_data = pandas.read_csv(asset_data[0])\n",
    "    return asset_data\n",
    "\n",
    "asset_name_conversion = get_asset_name_df() \n",
    "aud_usd = get_asset_data(\n",
    "                    directory = \"C:/Users/Nikhil Chandra/Documents/Repos/IG Trading/data/\", \n",
    "                    asset_name = \"AUD_USD\"\n",
    "                    )   \n",
    "\n",
    "aud_usd['Date'] = pandas.to_datetime(aud_usd['Date'])  \n",
    "aud_usd[\"diff_high\"] = (aud_usd['High'] - aud_usd['Open'])/aud_usd['Open']\n",
    "aud_usd[\"diff_low\"] = (aud_usd['Open'] - aud_usd['Low'])/aud_usd['Open']\n",
    "aud_usd = aud_usd.sort_values(by=['Date'])\n",
    "stop = 0.01\n",
    "aud_usd['stop short'] = aud_usd['Open'] + aud_usd['Open']*stop\n",
    "\n",
    "\n",
    "\n"
   ]
  }
 ],
 "metadata": {
  "kernelspec": {
   "display_name": "Python 3",
   "language": "python",
   "name": "python3"
  },
  "language_info": {
   "codemirror_mode": {
    "name": "ipython",
    "version": 3
   },
   "file_extension": ".py",
   "mimetype": "text/x-python",
   "name": "python",
   "nbconvert_exporter": "python",
   "pygments_lexer": "ipython3",
   "version": "3.11.3"
  }
 },
 "nbformat": 4,
 "nbformat_minor": 2
}
