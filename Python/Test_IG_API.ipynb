{
 "cells": [
  {
   "cell_type": "code",
   "execution_count": 1,
   "metadata": {},
   "outputs": [
    {
     "name": "stdout",
     "output_type": "stream",
     "text": [
      "Status Code 200\n",
      "JSON Response  820596a5-40d7-4ac0-ad11-aa2741cfc5bc\n",
      "Status Code 200\n",
      "JSON Response  {'markets': [{'epic': 'AA.D.CBA.CASH.IP', 'instrumentName': 'Commonwealth Bank of Australia', 'instrumentType': 'SHARES', 'expiry': '-', 'high': 159.45, 'low': 158.04, 'percentageChange': 0.64, 'netChange': 1.01, 'updateTime': '15:59:59', 'updateTimeUTC': '04:59:59', 'bid': None, 'offer': None, 'delayTime': 0, 'streamingPricesAvailable': False, 'marketStatus': 'EDITS_ONLY', 'scalingFactor': 100}, {'epic': 'UA.D.CBATUS.CASH.IP', 'instrumentName': 'CBAK Energy Technology Inc', 'instrumentType': 'SHARES', 'expiry': '-', 'high': None, 'low': None, 'percentageChange': 0.0, 'netChange': 0.0, 'updateTime': '08:00:00', 'updateTimeUTC': '21:00:00', 'bid': None, 'offer': None, 'delayTime': 0, 'streamingPricesAvailable': False, 'marketStatus': 'EDITS_ONLY', 'scalingFactor': 100}]}\n"
     ]
    }
   ],
   "source": [
    "import requests\n",
    "import pandas as pd\n",
    "import numpy as np\n",
    "\n",
    "class IGRequests:\n",
    "    def __init__(self,login_account,search_markets):\n",
    "        self.login_account = login_account\n",
    "        self.search_markets = search_markets\n",
    " \n",
    "\n",
    "\n",
    "url_base = \"https://api.ig.com/gateway/deal/session\"\n",
    "\n",
    "headers = {\"Content-Type\": \"application/json; charset=utf-8\", \n",
    "           \"X-IG-API-KEY\": \"8a0b9aecb9c0cd6163dc4c352c13ddafc6fca71c\", \n",
    "           \"Version\": \"3\"\n",
    "           }\n",
    "\n",
    "data = {\n",
    "        \"identifier\": \"NikhilChandra1234\",\n",
    "        \"password\": \"Xurjxsv5@IG\",\n",
    "        \"encryptedPassword\": True\n",
    "    }\n",
    "\n",
    "response = requests.post(url_base, headers=headers, json=data)\n",
    "print(\"Status Code\", response.status_code)\n",
    "response_json = response.json()\n",
    "oath_token = response_json[\"oauthToken\"]\n",
    "access_token = oath_token[\"access_token\"]\n",
    "print(\"JSON Response \", access_token)\n",
    "\n",
    "\n",
    "search_url = \"https://api.ig.com/gateway/deal/markets?searchTerm=\"\n",
    "search_term = \"CBA\"\n",
    "search_url_with_term = search_url + search_term\n",
    "\n",
    "headers = {\"Content-Type\": \"application/json; charset=utf-8\", \n",
    "           \"X-IG-API-KEY\": \"8a0b9aecb9c0cd6163dc4c352c13ddafc6fca71c\", \n",
    "           \"Version\": \"1\", \n",
    "           \"Authorization\": \"Bearer \" + access_token, \n",
    "           \"IG-ACCOUNT-ID\": \"CT4UQ\"\n",
    "           }\n",
    "\n",
    "response_get_search_term = requests.get(url=search_url_with_term, headers=headers)\n",
    "\n",
    "print(\"Status Code\", response_get_search_term.status_code)\n",
    "print(\"JSON Response \", response_get_search_term.json())"
   ]
  }
 ],
 "metadata": {
  "kernelspec": {
   "display_name": "Python 3",
   "language": "python",
   "name": "python3"
  },
  "language_info": {
   "codemirror_mode": {
    "name": "ipython",
    "version": 3
   },
   "file_extension": ".py",
   "mimetype": "text/x-python",
   "name": "python",
   "nbconvert_exporter": "python",
   "pygments_lexer": "ipython3",
   "version": "3.11.3"
  }
 },
 "nbformat": 4,
 "nbformat_minor": 2
}
